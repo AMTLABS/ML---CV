{
 "nbformat": 4,
 "nbformat_minor": 2,
 "metadata": {
  "language_info": {
   "name": "python",
   "codemirror_mode": {
    "name": "ipython",
    "version": 3
   },
   "version": "3.7.7-final"
  },
  "orig_nbformat": 2,
  "file_extension": ".py",
  "mimetype": "text/x-python",
  "name": "python",
  "npconvert_exporter": "python",
  "pygments_lexer": "ipython3",
  "version": 3,
  "kernelspec": {
   "name": "python37764bitgeneralcondad24ddfc181d64368bedde1437d06b9a1",
   "display_name": "Python 3.7.7 64-bit ('general': conda)"
  }
 },
 "cells": [
  {
   "cell_type": "code",
   "execution_count": 20,
   "metadata": {},
   "outputs": [
    {
     "output_type": "stream",
     "name": "stdout",
     "text": "1\nHugo Figueiredo\nProgramador Junior\nProgramador Junior em busca de experiência no ramo da programação ou informática de forma a obter\nexperiência valiosa no meu desenvolvimento proﬁssional.\n      hugo-72@outlook.pt        910898061           Porto, Portugal  30 November, 1997             linkedin.com/in/hugomsﬁgueiredo\nEXPERIÊNCIA DE TRABALHO                                             COMPETÊNCIAS\nProgramador C#                                                        C#       PHP       Reparação de computadores            HTML\nPoreXpert (Estágio Proﬁssional)\n02/2018 – 08/2018                          Plymouth, Reino Unido      SQL       Unity\nwww.porexpert.com\nTarefa(s)\n   Desenvolvimento da nova versão de software (2.0) criando\n   novas funcionalidades e melhorando o visual.                     PROJETOS PESSOAIS\nNota: 19/20\n                                                                    Jogo Unity (2014 – 2015)\n                                                                      PAP para o curso proﬁssional\nManutenção e instalação de sistemas de\ntelecomunicações\nNOS (Estágio Proﬁssional)\n06/2015 – 07/2015                                           Porto   EXPERIENCIA EM LINGUAGENS DE\nTarefa(s)\n                                                                    PROGRAMAÇÃO\n   Instalação de equipamentos e assistência ao cliente\nNota: 18/20                                                         C#\n                                                                    Maior experiência tendo feito um estágio de 6 meses e várias aulas em\n                                                                    volta desta da mesma.\nApoio ao cliente\nWorten (Estágio Proﬁssional)                                        Assembly\n06/2014 – 07/2014                                           Porto   Experiência basica tendo feito poucos programas.\nTarefa(s)\n   Apoio ao cliente\n                                                                    Pascal\n                                                                    Experiência basica tendo feito poucos programas.\n   Organização do armazém interno da loja\nNota: 17/20                                                         Visual Basic\n                                                                    Experiência intermédia tendo feito alguns programas no inicio do meu\n                                                                    curso de informática.\nFORMAÇÃO ACADÉMICA                                                  Java\n                                                                    Experiência intermédia/básica pois só tive uma cadeira no meu curso da\n                                                                    universidade em volta da linguagem.\nFormação PoreXpert\nPlymouth University                                                 Python\n02/2018 – 03/2018                          Plymouth, Reino Unido    Experiência intermédia tendo de a aprender no meu estágio de 6 meses\nInformações                                                         para compreender melhor as funcionalidades do software.\n   Formação dada pelo Dr.\n   Peter Matthews\n                                                                    IDIOMAS\nTecnologias e Programação de Sistemas de\n                                                                    Inglês\nInformação (CTeSP)\nInstituto Universitário da Maia - ISMAI                             Espanhol\n2016 – 2018                                                  Maia\nCurso proﬁssional de técnico de gestão de\n                                                                    INTERESSES\nequipamentos informáticos\nESTEL - Escola Proﬁssional de Tecnologia                              Informática         Desporto        Gaming\nElectrónica\n2012 – 2015                                                 Porto\n\nHugo Figueiredo\nProgramador Junior\nProgramador Junior em busca de experiência no ramo da programação ou informática de forma a obter\nexperiência valiosa no meu desenvolvimento proﬁssional.\n      hugo-72@outlook.pt        910898061           Porto, Portugal  30 November, 1997             linkedin.com/in/hugomsﬁgueiredo\nEXPERIÊNCIA DE TRABALHO                                             COMPETÊNCIAS\nProgramador C#                                                        C#       PHP       Reparação de computadores            HTML\nPoreXpert (Estágio Proﬁssional)\n02/2018 – 08/2018                          Plymouth, Reino Unido      SQL       Unity\nwww.porexpert.com\nTarefa(s)\n   Desenvolvimento da nova versão de software (2.0) criando\n   novas funcionalidades e melhorando o visual.                     PROJETOS PESSOAIS\nNota: 19/20\n                                                                    Jogo Unity (2014 – 2015)\n                                                                      PAP para o curso proﬁssional\nManutenção e instalação de sistemas de\ntelecomunicações\nNOS (Estágio Proﬁssional)\n06/2015 – 07/2015                                           Porto   EXPERIENCIA EM LINGUAGENS DE\nTarefa(s)\n                                                                    PROGRAMAÇÃO\n   Instalação de equipamentos e assistência ao cliente\nNota: 18/20                                                         C#\n                                                                    Maior experiência tendo feito um estágio de 6 meses e várias aulas em\n                                                                    volta desta da mesma.\nApoio ao cliente\nWorten (Estágio Proﬁssional)                                        Assembly\n06/2014 – 07/2014                                           Porto   Experiência basica tendo feito poucos programas.\nTarefa(s)\n   Apoio ao cliente\n                                                                    Pascal\n                                                                    Experiência basica tendo feito poucos programas.\n   Organização do armazém interno da loja\nNota: 17/20                                                         Visual Basic\n                                                                    Experiência intermédia tendo feito alguns programas no inicio do meu\n                                                                    curso de informática.\nFORMAÇÃO ACADÉMICA                                                  Java\n                                                                    Experiência intermédia/básica pois só tive uma cadeira no meu curso da\n                                                                    universidade em volta da linguagem.\nFormação PoreXpert\nPlymouth University                                                 Python\n02/2018 – 03/2018                          Plymouth, Reino Unido    Experiência intermédia tendo de a aprender no meu estágio de 6 meses\nInformações                                                         para compreender melhor as funcionalidades do software.\n   Formação dada pelo Dr.\n   Peter Matthews\n                                                                    IDIOMAS\nTecnologias e Programação de Sistemas de\n                                                                    Inglês\nInformação (CTeSP)\nInstituto Universitário da Maia - ISMAI                             Espanhol\n2016 – 2018                                                  Maia\nCurso proﬁssional de técnico de gestão de\n                                                                    INTERESSES\nequipamentos informáticos\nESTEL - Escola Proﬁssional de Tecnologia                              Informática         Desporto        Gaming\nElectrónica\n2012 – 2015                                                 Porto\n\n"
    }
   ],
   "source": [
    "import pdftotext\n",
    "\n",
    "# Load PDF\n",
    "with open(\"resume.pdf\", \"rb\") as f:\n",
    "    pdf = pdftotext.PDF(f)\n",
    "\n",
    "# Para quando o pdf é password-protected\n",
    "#with open(\"secure.pdf\", \"rb\") as f:\n",
    "#    pdf = pdftotext.PDF(f, \"secret\")\n",
    "\n",
    "# Print das páginas existentes\n",
    "print(len(pdf))\n",
    "\n",
    "# Iteration de todas as páginas\n",
    "for page in pdf:\n",
    "    print(page)\n",
    "\n",
    "# Escrever o texto para um ficheiro\n",
    "with open('output.txt', 'w', encoding=\"utf-8\") as f:\n",
    "    f.write(\"\\n\\n\".join(pdf))\n",
    "\n",
    "# Print de páginas individuais\n",
    "#print(pdf[0])\n",
    "\n",
    "# Print de todo o texto para uma string\n",
    "print(\"\\n\\n\".join(pdf))"
   ]
  },
  {
   "cell_type": "code",
   "execution_count": null,
   "metadata": {},
   "outputs": [],
   "source": []
  }
 ]
}