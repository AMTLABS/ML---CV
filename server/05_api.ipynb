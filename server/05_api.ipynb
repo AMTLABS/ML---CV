{
 "cells": [
  {
   "cell_type": "code",
   "execution_count": 2,
   "metadata": {},
   "outputs": [],
   "source": [
    "from flask import Flask\n",
    "from flask_restful import Api, Resource, reqparse\n",
    "from flask_cors import CORS\n",
    "\n",
    "app = Flask(__name__)\n",
    "\n",
    "cors = CORS(app)\n",
    "api = Api(app)\n",
    "\n",
    "users = [{\n",
    "    \"name\": \"Nicholas\",\n",
    "    \"age\": 42,\n",
    "    \"occupation\": \"Network Engineer\"\n",
    "},{\n",
    "    \"name\": \"Elvin\",\n",
    "    \"age\": 32,\n",
    "    \"occupation\": \"Doctor\"\n",
    "}]"
   ]
  },
  {
   "cell_type": "code",
   "execution_count": 3,
   "metadata": {},
   "outputs": [],
   "source": [
    "class User(Resource):\n",
    "\n",
    "    def get(self, name):\n",
    "        for user in users:\n",
    "            if(name == user[\"name\"]):\n",
    "                return user, 200\n",
    "        return \"User not found\", 404"
   ]
  },
  {
   "cell_type": "code",
   "execution_count": 4,
   "metadata": {},
   "outputs": [],
   "source": [
    "api.add_resource(User, \"/user/<string:name>\")\n",
    "\n",
    "#app.run(debug=True)"
   ]
  },
  {
   "cell_type": "code",
   "execution_count": null,
   "metadata": {},
   "outputs": [],
   "source": []
  }
 ],
 "metadata": {
  "kernelspec": {
   "display_name": "Python 3.6.10 64-bit ('tf1': conda)",
   "language": "python",
   "name": "python361064bittf1conda5f79e73749c6430c8ef21c64c9df1ac4"
  },
  "language_info": {
   "codemirror_mode": {
    "name": "ipython",
    "version": 3
   },
   "file_extension": ".py",
   "mimetype": "text/x-python",
   "name": "python",
   "nbconvert_exporter": "python",
   "pygments_lexer": "ipython3",
   "version": "3.6.10-final"
  }
 },
 "nbformat": 4,
 "nbformat_minor": 2
}