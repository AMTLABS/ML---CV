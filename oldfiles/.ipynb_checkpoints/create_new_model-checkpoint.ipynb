{
 "cells": [
  {
   "cell_type": "code",
   "execution_count": 7,
   "metadata": {},
   "outputs": [
    {
     "name": "stdout",
     "output_type": "stream",
     "text": [
      "Starting iteration 1\n",
      "{'ner': 81.99611913431727}\n",
      "Starting iteration 2\n",
      "{'ner': 24.717746218566617}\n",
      "Starting iteration 3\n",
      "{'ner': 0.15311530746934243}\n",
      "Starting iteration 4\n",
      "{'ner': 1.7125930741384364e-05}\n"
     ]
    },
    {
     "data": {
      "text/html": [
       "<div class=\"entities\" style=\"line-height: 2.5; direction: ltr\">Chamo-me João \n",
       "<mark class=\"entity\" style=\"background: #ddd; padding: 0.45em 0.6em; margin: 0 0.25em; line-height: 1; border-radius: 0.35em;\">\n",
       "    Carlos\n",
       "    <span style=\"font-size: 0.8em; font-weight: bold; line-height: 1; border-radius: 0.35em; text-transform: uppercase; vertical-align: middle; margin-left: 0.5rem\">NOME</span>\n",
       "</mark>\n",
       " e tenho \n",
       "<mark class=\"entity\" style=\"background: #ddd; padding: 0.45em 0.6em; margin: 0 0.25em; line-height: 1; border-radius: 0.35em;\">\n",
       "    28\n",
       "    <span style=\"font-size: 0.8em; font-weight: bold; line-height: 1; border-radius: 0.35em; text-transform: uppercase; vertical-align: middle; margin-left: 0.5rem\">IDADE</span>\n",
       "</mark>\n",
       " anos</div>"
      ],
      "text/plain": [
       "<IPython.core.display.HTML object>"
      ]
     },
     "metadata": {},
     "output_type": "display_data"
    }
   ],
   "source": [
    "import spacy\n",
    "from spacy import displacy\n",
    "import random\n",
    "import joblib\n",
    "\n",
    "#if model is not None:\n",
    "#    nlp = spacy.load(model)  # load existing spaCy model\n",
    "#    print(\"Loaded model '%s'\" % model)\n",
    "#else:\n",
    "nlp = spacy.blank(\"pt\")  # create blank Language class\n",
    "#print(\"Created blank 'pt' model\")\n",
    "\n",
    "if 'ner' not in nlp.pipe_names :\n",
    "    ner = nlp.create_pipe('ner')\n",
    "    nlp.add_pipe(ner, last=True)\n",
    "else :\n",
    "    ner = nlp.get_pipe(\"ner\")\n",
    "\n",
    "LABEL = ['NOME', 'IDADE']\n",
    "\n",
    "TRAIN_DATA = [\n",
    "    ( \"O meu nome é Kailan fiz  25 anos de idade\", { \"entities\": [ (13,19, \"NOME\"), (25,27, \"IDADE\")] } ),( \"Nome Abduramane idade 70 anos.\", { \"entities\": [ (5,15, \"NOME\"), (22,24, \"IDADE\")] } ),( \"Primeiro nome Cademo idade 41 anos\", { \"entities\": [ (14,20, \"NOME\"), (27,29, \"IDADE\")] } ),( \"Nombre Yoan fiz  25 anos.\", { \"entities\": [ (7,11, \"NOME\"), (17,19, \"IDADE\")] } ),( \"Nome Adaylton , tenho 47 anos de idade\", { \"entities\": [ (5,13, \"NOME\"), (22,24, \"IDADE\")] } ),( \"Chamo-me Yassir e tenho 42 anos\", { \"entities\": [ (9,15, \"NOME\"), (24,26, \"IDADE\")] } ),( \"Nombre Trevor , tenho 66 anos de idade\", { \"entities\": [ (7,13, \"NOME\"), (22,24, \"IDADE\")] } ),( \"O meu nome é Arsh idade 19 anos\", { \"entities\": [ (13,17, \"NOME\"), (24,26, \"IDADE\")] } ),( \"Name Auany fiz  62 anos.\", { \"entities\": [ (5,10, \"NOME\"), (16,18, \"IDADE\")] } ),( \"Nombre Aloísio Idade 53 anos.\", { \"entities\": [ (7,14, \"NOME\"), (21,23, \"IDADE\")] } ),( \"Primeiro nome Etiandro , tenho 27 anos.\", { \"entities\": [ (14,22, \"NOME\"), (31,33, \"IDADE\")] } ),( \"Primeiro nome Mohkamdeep e tenho 69 anos\", { \"entities\": [ (14,24, \"NOME\"), (33,35, \"IDADE\")] } ),( \"Nome Jamil e a minha idade é 63 anos\", { \"entities\": [ (5,10, \"NOME\"), (29,31, \"IDADE\")] } ),( \"O meu nome é Roberto e a minha idade é 44 anos\", { \"entities\": [ (13,20, \"NOME\"), (39,41, \"IDADE\")] } ),( \"First Name Sixto fiz  61 anos de idade\", { \"entities\": [ (11,16, \"NOME\"), (22,24, \"IDADE\")] } ),( \"Primeiro nome Valdo idade 69 anos.\", { \"entities\": [ (14,19, \"NOME\"), (26,28, \"IDADE\")] } ),( \"O meu nome é Amadeu idade 34 anos de idade\", { \"entities\": [ (13,19, \"NOME\"), (26,28, \"IDADE\")] } ),( \"Primeiro nome Atlas e tenho 37 anos\", { \"entities\": [ (14,19, \"NOME\"), (28,30, \"IDADE\")] } ),( \"O meu nome é Deyvan fiz  23 anos de idade\", { \"entities\": [ (13,19, \"NOME\"), (25,27, \"IDADE\")] } )\n",
    "]\n",
    "\n",
    "# add labels\n",
    "for _, annotations in TRAIN_DATA:\n",
    "  for ent in annotations.get('entities'):\n",
    "    ner.add_label(ent[2])\n",
    "\n",
    "other_pipe = [pipe for pipe in nlp.pipe_names if pipe != 'ner']\n",
    "\n",
    "# Only training NER\n",
    "with nlp.disable_pipes(*other_pipe) :\n",
    "    #if model is None:\n",
    "    optimizer = nlp.begin_training()\n",
    "    #else:\n",
    "    #    optimizer = nlp.resume_training()\n",
    "\n",
    "for int in range(1,5) :\n",
    "    print(\"Starting iteration \" + str(int))\n",
    "    random.shuffle(TRAIN_DATA)\n",
    "    losses = {}\n",
    "\n",
    "    for text, annotation in TRAIN_DATA :\n",
    "        nlp.update(\n",
    "        [text],\n",
    "        [annotation],\n",
    "        drop = 0.2,\n",
    "        sgd = optimizer,\n",
    "        losses = losses\n",
    "        )\n",
    "    print(losses)\n",
    "new_model = nlp\n",
    "\n",
    "test_text = 'Chamo-me João Carlos e tenho 28 anos'\n",
    "\n",
    "doc = new_model(test_text)\n",
    "\n",
    "#for ent in doc.ents:\n",
    "#    print(ent.label_, ent.text)\n",
    "    \n",
    "displacy.render(doc, style=\"ent\")"
   ]
  },
  {
   "cell_type": "code",
   "execution_count": null,
   "metadata": {},
   "outputs": [],
   "source": []
  }
 ],
 "metadata": {
  "kernelspec": {
   "display_name": "Python 3",
   "language": "python",
   "name": "python3"
  },
  "language_info": {
   "codemirror_mode": {
    "name": "ipython",
    "version": 3
   },
   "file_extension": ".py",
   "mimetype": "text/x-python",
   "name": "python",
   "nbconvert_exporter": "python",
   "pygments_lexer": "ipython3",
   "version": "3.7.4"
  }
 },
 "nbformat": 4,
 "nbformat_minor": 2
}
