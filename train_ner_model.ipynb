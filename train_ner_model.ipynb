{
 "cells": [
  {
   "cell_type": "code",
   "execution_count": 32,
   "metadata": {},
   "outputs": [
    {
     "output_type": "stream",
     "name": "stdout",
     "text": "Número de palavras: 6964\nNúmero de tags: 6\nNúmero de inputs: 84\nO maior input tem 1682 palavras\n"
    },
    {
     "output_type": "display_data",
     "data": {
      "text/plain": "<Figure size 432x288 with 1 Axes>",
      "image/svg+xml": "<?xml version=\"1.0\" encoding=\"utf-8\" standalone=\"no\"?>\r\n<!DOCTYPE svg PUBLIC \"-//W3C//DTD SVG 1.1//EN\"\r\n  \"http://www.w3.org/Graphics/SVG/1.1/DTD/svg11.dtd\">\r\n<!-- Created with matplotlib (https://matplotlib.org/) -->\r\n<svg height=\"248.518125pt\" version=\"1.1\" viewBox=\"0 0 368.925 248.518125\" width=\"368.925pt\" xmlns=\"http://www.w3.org/2000/svg\" xmlns:xlink=\"http://www.w3.org/1999/xlink\">\r\n <defs>\r\n  <style type=\"text/css\">\r\n*{stroke-linecap:butt;stroke-linejoin:round;}\r\n  </style>\r\n </defs>\r\n <g id=\"figure_1\">\r\n  <g id=\"patch_1\">\r\n   <path d=\"M -0 248.518125 \r\nL 368.925 248.518125 \r\nL 368.925 0 \r\nL -0 0 \r\nz\r\n\" style=\"fill:none;\"/>\r\n  </g>\r\n  <g id=\"axes_1\">\r\n   <g id=\"patch_2\">\r\n    <path d=\"M 26.925 224.64 \r\nL 361.725 224.64 \r\nL 361.725 7.2 \r\nL 26.925 7.2 \r\nz\r\n\" style=\"fill:#ffffff;\"/>\r\n   </g>\r\n   <g id=\"patch_3\">\r\n    <path clip-path=\"url(#pa45007b93b)\" d=\"M 42.143182 224.64 \r\nL 48.230455 224.64 \r\nL 48.230455 121.097143 \r\nL 42.143182 121.097143 \r\nz\r\n\" style=\"fill:#1f77b4;\"/>\r\n   </g>\r\n   <g id=\"patch_4\">\r\n    <path clip-path=\"url(#pa45007b93b)\" d=\"M 48.230455 224.64 \r\nL 54.317727 224.64 \r\nL 54.317727 38.262857 \r\nL 48.230455 38.262857 \r\nz\r\n\" style=\"fill:#1f77b4;\"/>\r\n   </g>\r\n   <g id=\"patch_5\">\r\n    <path clip-path=\"url(#pa45007b93b)\" d=\"M 54.317727 224.64 \r\nL 60.405 224.64 \r\nL 60.405 162.514286 \r\nL 54.317727 162.514286 \r\nz\r\n\" style=\"fill:#1f77b4;\"/>\r\n   </g>\r\n   <g id=\"patch_6\">\r\n    <path clip-path=\"url(#pa45007b93b)\" d=\"M 60.405 224.64 \r\nL 66.492273 224.64 \r\nL 66.492273 141.805714 \r\nL 60.405 141.805714 \r\nz\r\n\" style=\"fill:#1f77b4;\"/>\r\n   </g>\r\n   <g id=\"patch_7\">\r\n    <path clip-path=\"url(#pa45007b93b)\" d=\"M 66.492273 224.64 \r\nL 72.579545 224.64 \r\nL 72.579545 17.554286 \r\nL 66.492273 17.554286 \r\nz\r\n\" style=\"fill:#1f77b4;\"/>\r\n   </g>\r\n   <g id=\"patch_8\">\r\n    <path clip-path=\"url(#pa45007b93b)\" d=\"M 72.579545 224.64 \r\nL 78.666818 224.64 \r\nL 78.666818 58.971429 \r\nL 72.579545 58.971429 \r\nz\r\n\" style=\"fill:#1f77b4;\"/>\r\n   </g>\r\n   <g id=\"patch_9\">\r\n    <path clip-path=\"url(#pa45007b93b)\" d=\"M 78.666818 224.64 \r\nL 84.754091 224.64 \r\nL 84.754091 183.222857 \r\nL 78.666818 183.222857 \r\nz\r\n\" style=\"fill:#1f77b4;\"/>\r\n   </g>\r\n   <g id=\"patch_10\">\r\n    <path clip-path=\"url(#pa45007b93b)\" d=\"M 84.754091 224.64 \r\nL 90.841364 224.64 \r\nL 90.841364 100.388571 \r\nL 84.754091 100.388571 \r\nz\r\n\" style=\"fill:#1f77b4;\"/>\r\n   </g>\r\n   <g id=\"patch_11\">\r\n    <path clip-path=\"url(#pa45007b93b)\" d=\"M 90.841364 224.64 \r\nL 96.928636 224.64 \r\nL 96.928636 141.805714 \r\nL 90.841364 141.805714 \r\nz\r\n\" style=\"fill:#1f77b4;\"/>\r\n   </g>\r\n   <g id=\"patch_12\">\r\n    <path clip-path=\"url(#pa45007b93b)\" d=\"M 96.928636 224.64 \r\nL 103.015909 224.64 \r\nL 103.015909 121.097143 \r\nL 96.928636 121.097143 \r\nz\r\n\" style=\"fill:#1f77b4;\"/>\r\n   </g>\r\n   <g id=\"patch_13\">\r\n    <path clip-path=\"url(#pa45007b93b)\" d=\"M 103.015909 224.64 \r\nL 109.103182 224.64 \r\nL 109.103182 38.262857 \r\nL 103.015909 38.262857 \r\nz\r\n\" style=\"fill:#1f77b4;\"/>\r\n   </g>\r\n   <g id=\"patch_14\">\r\n    <path clip-path=\"url(#pa45007b93b)\" d=\"M 109.103182 224.64 \r\nL 115.190455 224.64 \r\nL 115.190455 121.097143 \r\nL 109.103182 121.097143 \r\nz\r\n\" style=\"fill:#1f77b4;\"/>\r\n   </g>\r\n   <g id=\"patch_15\">\r\n    <path clip-path=\"url(#pa45007b93b)\" d=\"M 115.190455 224.64 \r\nL 121.277727 224.64 \r\nL 121.277727 183.222857 \r\nL 115.190455 183.222857 \r\nz\r\n\" style=\"fill:#1f77b4;\"/>\r\n   </g>\r\n   <g id=\"patch_16\">\r\n    <path clip-path=\"url(#pa45007b93b)\" d=\"M 121.277727 224.64 \r\nL 127.365 224.64 \r\nL 127.365 203.931429 \r\nL 121.277727 203.931429 \r\nz\r\n\" style=\"fill:#1f77b4;\"/>\r\n   </g>\r\n   <g id=\"patch_17\">\r\n    <path clip-path=\"url(#pa45007b93b)\" d=\"M 127.365 224.64 \r\nL 133.452273 224.64 \r\nL 133.452273 183.222857 \r\nL 127.365 183.222857 \r\nz\r\n\" style=\"fill:#1f77b4;\"/>\r\n   </g>\r\n   <g id=\"patch_18\">\r\n    <path clip-path=\"url(#pa45007b93b)\" d=\"M 133.452273 224.64 \r\nL 139.539545 224.64 \r\nL 139.539545 203.931429 \r\nL 133.452273 203.931429 \r\nz\r\n\" style=\"fill:#1f77b4;\"/>\r\n   </g>\r\n   <g id=\"patch_19\">\r\n    <path clip-path=\"url(#pa45007b93b)\" d=\"M 139.539545 224.64 \r\nL 145.626818 224.64 \r\nL 145.626818 203.931429 \r\nL 139.539545 203.931429 \r\nz\r\n\" style=\"fill:#1f77b4;\"/>\r\n   </g>\r\n   <g id=\"patch_20\">\r\n    <path clip-path=\"url(#pa45007b93b)\" d=\"M 145.626818 224.64 \r\nL 151.714091 224.64 \r\nL 151.714091 224.64 \r\nL 145.626818 224.64 \r\nz\r\n\" style=\"fill:#1f77b4;\"/>\r\n   </g>\r\n   <g id=\"patch_21\">\r\n    <path clip-path=\"url(#pa45007b93b)\" d=\"M 151.714091 224.64 \r\nL 157.801364 224.64 \r\nL 157.801364 203.931429 \r\nL 151.714091 203.931429 \r\nz\r\n\" style=\"fill:#1f77b4;\"/>\r\n   </g>\r\n   <g id=\"patch_22\">\r\n    <path clip-path=\"url(#pa45007b93b)\" d=\"M 157.801364 224.64 \r\nL 163.888636 224.64 \r\nL 163.888636 183.222857 \r\nL 157.801364 183.222857 \r\nz\r\n\" style=\"fill:#1f77b4;\"/>\r\n   </g>\r\n   <g id=\"patch_23\">\r\n    <path clip-path=\"url(#pa45007b93b)\" d=\"M 163.888636 224.64 \r\nL 169.975909 224.64 \r\nL 169.975909 224.64 \r\nL 163.888636 224.64 \r\nz\r\n\" style=\"fill:#1f77b4;\"/>\r\n   </g>\r\n   <g id=\"patch_24\">\r\n    <path clip-path=\"url(#pa45007b93b)\" d=\"M 169.975909 224.64 \r\nL 176.063182 224.64 \r\nL 176.063182 203.931429 \r\nL 169.975909 203.931429 \r\nz\r\n\" style=\"fill:#1f77b4;\"/>\r\n   </g>\r\n   <g id=\"patch_25\">\r\n    <path clip-path=\"url(#pa45007b93b)\" d=\"M 176.063182 224.64 \r\nL 182.150455 224.64 \r\nL 182.150455 224.64 \r\nL 176.063182 224.64 \r\nz\r\n\" style=\"fill:#1f77b4;\"/>\r\n   </g>\r\n   <g id=\"patch_26\">\r\n    <path clip-path=\"url(#pa45007b93b)\" d=\"M 182.150455 224.64 \r\nL 188.237727 224.64 \r\nL 188.237727 183.222857 \r\nL 182.150455 183.222857 \r\nz\r\n\" style=\"fill:#1f77b4;\"/>\r\n   </g>\r\n   <g id=\"patch_27\">\r\n    <path clip-path=\"url(#pa45007b93b)\" d=\"M 188.237727 224.64 \r\nL 194.325 224.64 \r\nL 194.325 224.64 \r\nL 188.237727 224.64 \r\nz\r\n\" style=\"fill:#1f77b4;\"/>\r\n   </g>\r\n   <g id=\"patch_28\">\r\n    <path clip-path=\"url(#pa45007b93b)\" d=\"M 194.325 224.64 \r\nL 200.412273 224.64 \r\nL 200.412273 224.64 \r\nL 194.325 224.64 \r\nz\r\n\" style=\"fill:#1f77b4;\"/>\r\n   </g>\r\n   <g id=\"patch_29\">\r\n    <path clip-path=\"url(#pa45007b93b)\" d=\"M 200.412273 224.64 \r\nL 206.499545 224.64 \r\nL 206.499545 224.64 \r\nL 200.412273 224.64 \r\nz\r\n\" style=\"fill:#1f77b4;\"/>\r\n   </g>\r\n   <g id=\"patch_30\">\r\n    <path clip-path=\"url(#pa45007b93b)\" d=\"M 206.499545 224.64 \r\nL 212.586818 224.64 \r\nL 212.586818 224.64 \r\nL 206.499545 224.64 \r\nz\r\n\" style=\"fill:#1f77b4;\"/>\r\n   </g>\r\n   <g id=\"patch_31\">\r\n    <path clip-path=\"url(#pa45007b93b)\" d=\"M 212.586818 224.64 \r\nL 218.674091 224.64 \r\nL 218.674091 224.64 \r\nL 212.586818 224.64 \r\nz\r\n\" style=\"fill:#1f77b4;\"/>\r\n   </g>\r\n   <g id=\"patch_32\">\r\n    <path clip-path=\"url(#pa45007b93b)\" d=\"M 218.674091 224.64 \r\nL 224.761364 224.64 \r\nL 224.761364 224.64 \r\nL 218.674091 224.64 \r\nz\r\n\" style=\"fill:#1f77b4;\"/>\r\n   </g>\r\n   <g id=\"patch_33\">\r\n    <path clip-path=\"url(#pa45007b93b)\" d=\"M 224.761364 224.64 \r\nL 230.848636 224.64 \r\nL 230.848636 224.64 \r\nL 224.761364 224.64 \r\nz\r\n\" style=\"fill:#1f77b4;\"/>\r\n   </g>\r\n   <g id=\"patch_34\">\r\n    <path clip-path=\"url(#pa45007b93b)\" d=\"M 230.848636 224.64 \r\nL 236.935909 224.64 \r\nL 236.935909 224.64 \r\nL 230.848636 224.64 \r\nz\r\n\" style=\"fill:#1f77b4;\"/>\r\n   </g>\r\n   <g id=\"patch_35\">\r\n    <path clip-path=\"url(#pa45007b93b)\" d=\"M 236.935909 224.64 \r\nL 243.023182 224.64 \r\nL 243.023182 224.64 \r\nL 236.935909 224.64 \r\nz\r\n\" style=\"fill:#1f77b4;\"/>\r\n   </g>\r\n   <g id=\"patch_36\">\r\n    <path clip-path=\"url(#pa45007b93b)\" d=\"M 243.023182 224.64 \r\nL 249.110455 224.64 \r\nL 249.110455 224.64 \r\nL 243.023182 224.64 \r\nz\r\n\" style=\"fill:#1f77b4;\"/>\r\n   </g>\r\n   <g id=\"patch_37\">\r\n    <path clip-path=\"url(#pa45007b93b)\" d=\"M 249.110455 224.64 \r\nL 255.197727 224.64 \r\nL 255.197727 224.64 \r\nL 249.110455 224.64 \r\nz\r\n\" style=\"fill:#1f77b4;\"/>\r\n   </g>\r\n   <g id=\"patch_38\">\r\n    <path clip-path=\"url(#pa45007b93b)\" d=\"M 255.197727 224.64 \r\nL 261.285 224.64 \r\nL 261.285 224.64 \r\nL 255.197727 224.64 \r\nz\r\n\" style=\"fill:#1f77b4;\"/>\r\n   </g>\r\n   <g id=\"patch_39\">\r\n    <path clip-path=\"url(#pa45007b93b)\" d=\"M 261.285 224.64 \r\nL 267.372273 224.64 \r\nL 267.372273 224.64 \r\nL 261.285 224.64 \r\nz\r\n\" style=\"fill:#1f77b4;\"/>\r\n   </g>\r\n   <g id=\"patch_40\">\r\n    <path clip-path=\"url(#pa45007b93b)\" d=\"M 267.372273 224.64 \r\nL 273.459545 224.64 \r\nL 273.459545 224.64 \r\nL 267.372273 224.64 \r\nz\r\n\" style=\"fill:#1f77b4;\"/>\r\n   </g>\r\n   <g id=\"patch_41\">\r\n    <path clip-path=\"url(#pa45007b93b)\" d=\"M 273.459545 224.64 \r\nL 279.546818 224.64 \r\nL 279.546818 224.64 \r\nL 273.459545 224.64 \r\nz\r\n\" style=\"fill:#1f77b4;\"/>\r\n   </g>\r\n   <g id=\"patch_42\">\r\n    <path clip-path=\"url(#pa45007b93b)\" d=\"M 279.546818 224.64 \r\nL 285.634091 224.64 \r\nL 285.634091 224.64 \r\nL 279.546818 224.64 \r\nz\r\n\" style=\"fill:#1f77b4;\"/>\r\n   </g>\r\n   <g id=\"patch_43\">\r\n    <path clip-path=\"url(#pa45007b93b)\" d=\"M 285.634091 224.64 \r\nL 291.721364 224.64 \r\nL 291.721364 224.64 \r\nL 285.634091 224.64 \r\nz\r\n\" style=\"fill:#1f77b4;\"/>\r\n   </g>\r\n   <g id=\"patch_44\">\r\n    <path clip-path=\"url(#pa45007b93b)\" d=\"M 291.721364 224.64 \r\nL 297.808636 224.64 \r\nL 297.808636 224.64 \r\nL 291.721364 224.64 \r\nz\r\n\" style=\"fill:#1f77b4;\"/>\r\n   </g>\r\n   <g id=\"patch_45\">\r\n    <path clip-path=\"url(#pa45007b93b)\" d=\"M 297.808636 224.64 \r\nL 303.895909 224.64 \r\nL 303.895909 224.64 \r\nL 297.808636 224.64 \r\nz\r\n\" style=\"fill:#1f77b4;\"/>\r\n   </g>\r\n   <g id=\"patch_46\">\r\n    <path clip-path=\"url(#pa45007b93b)\" d=\"M 303.895909 224.64 \r\nL 309.983182 224.64 \r\nL 309.983182 224.64 \r\nL 303.895909 224.64 \r\nz\r\n\" style=\"fill:#1f77b4;\"/>\r\n   </g>\r\n   <g id=\"patch_47\">\r\n    <path clip-path=\"url(#pa45007b93b)\" d=\"M 309.983182 224.64 \r\nL 316.070455 224.64 \r\nL 316.070455 224.64 \r\nL 309.983182 224.64 \r\nz\r\n\" style=\"fill:#1f77b4;\"/>\r\n   </g>\r\n   <g id=\"patch_48\">\r\n    <path clip-path=\"url(#pa45007b93b)\" d=\"M 316.070455 224.64 \r\nL 322.157727 224.64 \r\nL 322.157727 224.64 \r\nL 316.070455 224.64 \r\nz\r\n\" style=\"fill:#1f77b4;\"/>\r\n   </g>\r\n   <g id=\"patch_49\">\r\n    <path clip-path=\"url(#pa45007b93b)\" d=\"M 322.157727 224.64 \r\nL 328.245 224.64 \r\nL 328.245 224.64 \r\nL 322.157727 224.64 \r\nz\r\n\" style=\"fill:#1f77b4;\"/>\r\n   </g>\r\n   <g id=\"patch_50\">\r\n    <path clip-path=\"url(#pa45007b93b)\" d=\"M 328.245 224.64 \r\nL 334.332273 224.64 \r\nL 334.332273 224.64 \r\nL 328.245 224.64 \r\nz\r\n\" style=\"fill:#1f77b4;\"/>\r\n   </g>\r\n   <g id=\"patch_51\">\r\n    <path clip-path=\"url(#pa45007b93b)\" d=\"M 334.332273 224.64 \r\nL 340.419545 224.64 \r\nL 340.419545 224.64 \r\nL 334.332273 224.64 \r\nz\r\n\" style=\"fill:#1f77b4;\"/>\r\n   </g>\r\n   <g id=\"patch_52\">\r\n    <path clip-path=\"url(#pa45007b93b)\" d=\"M 340.419545 224.64 \r\nL 346.506818 224.64 \r\nL 346.506818 203.931429 \r\nL 340.419545 203.931429 \r\nz\r\n\" style=\"fill:#1f77b4;\"/>\r\n   </g>\r\n   <g id=\"matplotlib.axis_1\">\r\n    <g id=\"xtick_1\">\r\n     <g id=\"line2d_1\">\r\n      <defs>\r\n       <path d=\"M 0 0 \r\nL 0 3.5 \r\n\" id=\"m8da7407c98\" style=\"stroke:#000000;stroke-width:0.8;\"/>\r\n      </defs>\r\n      <g>\r\n       <use style=\"stroke:#000000;stroke-width:0.8;\" x=\"56.431635\" xlink:href=\"#m8da7407c98\" y=\"224.64\"/>\r\n      </g>\r\n     </g>\r\n     <g id=\"text_1\">\r\n      <!-- 200 -->\r\n      <defs>\r\n       <path d=\"M 19.1875 8.296875 \r\nL 53.609375 8.296875 \r\nL 53.609375 0 \r\nL 7.328125 0 \r\nL 7.328125 8.296875 \r\nQ 12.9375 14.109375 22.625 23.890625 \r\nQ 32.328125 33.6875 34.8125 36.53125 \r\nQ 39.546875 41.84375 41.421875 45.53125 \r\nQ 43.3125 49.21875 43.3125 52.78125 \r\nQ 43.3125 58.59375 39.234375 62.25 \r\nQ 35.15625 65.921875 28.609375 65.921875 \r\nQ 23.96875 65.921875 18.8125 64.3125 \r\nQ 13.671875 62.703125 7.8125 59.421875 \r\nL 7.8125 69.390625 \r\nQ 13.765625 71.78125 18.9375 73 \r\nQ 24.125 74.21875 28.421875 74.21875 \r\nQ 39.75 74.21875 46.484375 68.546875 \r\nQ 53.21875 62.890625 53.21875 53.421875 \r\nQ 53.21875 48.921875 51.53125 44.890625 \r\nQ 49.859375 40.875 45.40625 35.40625 \r\nQ 44.1875 33.984375 37.640625 27.21875 \r\nQ 31.109375 20.453125 19.1875 8.296875 \r\nz\r\n\" id=\"DejaVuSans-50\"/>\r\n       <path d=\"M 31.78125 66.40625 \r\nQ 24.171875 66.40625 20.328125 58.90625 \r\nQ 16.5 51.421875 16.5 36.375 \r\nQ 16.5 21.390625 20.328125 13.890625 \r\nQ 24.171875 6.390625 31.78125 6.390625 \r\nQ 39.453125 6.390625 43.28125 13.890625 \r\nQ 47.125 21.390625 47.125 36.375 \r\nQ 47.125 51.421875 43.28125 58.90625 \r\nQ 39.453125 66.40625 31.78125 66.40625 \r\nz\r\nM 31.78125 74.21875 \r\nQ 44.046875 74.21875 50.515625 64.515625 \r\nQ 56.984375 54.828125 56.984375 36.375 \r\nQ 56.984375 17.96875 50.515625 8.265625 \r\nQ 44.046875 -1.421875 31.78125 -1.421875 \r\nQ 19.53125 -1.421875 13.0625 8.265625 \r\nQ 6.59375 17.96875 6.59375 36.375 \r\nQ 6.59375 54.828125 13.0625 64.515625 \r\nQ 19.53125 74.21875 31.78125 74.21875 \r\nz\r\n\" id=\"DejaVuSans-48\"/>\r\n      </defs>\r\n      <g transform=\"translate(46.887885 239.238437)scale(0.1 -0.1)\">\r\n       <use xlink:href=\"#DejaVuSans-50\"/>\r\n       <use x=\"63.623047\" xlink:href=\"#DejaVuSans-48\"/>\r\n       <use x=\"127.246094\" xlink:href=\"#DejaVuSans-48\"/>\r\n      </g>\r\n     </g>\r\n    </g>\r\n    <g id=\"xtick_2\">\r\n     <g id=\"line2d_2\">\r\n      <g>\r\n       <use style=\"stroke:#000000;stroke-width:0.8;\" x=\"95.578084\" xlink:href=\"#m8da7407c98\" y=\"224.64\"/>\r\n      </g>\r\n     </g>\r\n     <g id=\"text_2\">\r\n      <!-- 400 -->\r\n      <defs>\r\n       <path d=\"M 37.796875 64.3125 \r\nL 12.890625 25.390625 \r\nL 37.796875 25.390625 \r\nz\r\nM 35.203125 72.90625 \r\nL 47.609375 72.90625 \r\nL 47.609375 25.390625 \r\nL 58.015625 25.390625 \r\nL 58.015625 17.1875 \r\nL 47.609375 17.1875 \r\nL 47.609375 0 \r\nL 37.796875 0 \r\nL 37.796875 17.1875 \r\nL 4.890625 17.1875 \r\nL 4.890625 26.703125 \r\nz\r\n\" id=\"DejaVuSans-52\"/>\r\n      </defs>\r\n      <g transform=\"translate(86.034334 239.238437)scale(0.1 -0.1)\">\r\n       <use xlink:href=\"#DejaVuSans-52\"/>\r\n       <use x=\"63.623047\" xlink:href=\"#DejaVuSans-48\"/>\r\n       <use x=\"127.246094\" xlink:href=\"#DejaVuSans-48\"/>\r\n      </g>\r\n     </g>\r\n    </g>\r\n    <g id=\"xtick_3\">\r\n     <g id=\"line2d_3\">\r\n      <g>\r\n       <use style=\"stroke:#000000;stroke-width:0.8;\" x=\"134.724532\" xlink:href=\"#m8da7407c98\" y=\"224.64\"/>\r\n      </g>\r\n     </g>\r\n     <g id=\"text_3\">\r\n      <!-- 600 -->\r\n      <defs>\r\n       <path d=\"M 33.015625 40.375 \r\nQ 26.375 40.375 22.484375 35.828125 \r\nQ 18.609375 31.296875 18.609375 23.390625 \r\nQ 18.609375 15.53125 22.484375 10.953125 \r\nQ 26.375 6.390625 33.015625 6.390625 \r\nQ 39.65625 6.390625 43.53125 10.953125 \r\nQ 47.40625 15.53125 47.40625 23.390625 \r\nQ 47.40625 31.296875 43.53125 35.828125 \r\nQ 39.65625 40.375 33.015625 40.375 \r\nz\r\nM 52.59375 71.296875 \r\nL 52.59375 62.3125 \r\nQ 48.875 64.0625 45.09375 64.984375 \r\nQ 41.3125 65.921875 37.59375 65.921875 \r\nQ 27.828125 65.921875 22.671875 59.328125 \r\nQ 17.53125 52.734375 16.796875 39.40625 \r\nQ 19.671875 43.65625 24.015625 45.921875 \r\nQ 28.375 48.1875 33.59375 48.1875 \r\nQ 44.578125 48.1875 50.953125 41.515625 \r\nQ 57.328125 34.859375 57.328125 23.390625 \r\nQ 57.328125 12.15625 50.6875 5.359375 \r\nQ 44.046875 -1.421875 33.015625 -1.421875 \r\nQ 20.359375 -1.421875 13.671875 8.265625 \r\nQ 6.984375 17.96875 6.984375 36.375 \r\nQ 6.984375 53.65625 15.1875 63.9375 \r\nQ 23.390625 74.21875 37.203125 74.21875 \r\nQ 40.921875 74.21875 44.703125 73.484375 \r\nQ 48.484375 72.75 52.59375 71.296875 \r\nz\r\n\" id=\"DejaVuSans-54\"/>\r\n      </defs>\r\n      <g transform=\"translate(125.180782 239.238437)scale(0.1 -0.1)\">\r\n       <use xlink:href=\"#DejaVuSans-54\"/>\r\n       <use x=\"63.623047\" xlink:href=\"#DejaVuSans-48\"/>\r\n       <use x=\"127.246094\" xlink:href=\"#DejaVuSans-48\"/>\r\n      </g>\r\n     </g>\r\n    </g>\r\n    <g id=\"xtick_4\">\r\n     <g id=\"line2d_4\">\r\n      <g>\r\n       <use style=\"stroke:#000000;stroke-width:0.8;\" x=\"173.870981\" xlink:href=\"#m8da7407c98\" y=\"224.64\"/>\r\n      </g>\r\n     </g>\r\n     <g id=\"text_4\">\r\n      <!-- 800 -->\r\n      <defs>\r\n       <path d=\"M 31.78125 34.625 \r\nQ 24.75 34.625 20.71875 30.859375 \r\nQ 16.703125 27.09375 16.703125 20.515625 \r\nQ 16.703125 13.921875 20.71875 10.15625 \r\nQ 24.75 6.390625 31.78125 6.390625 \r\nQ 38.8125 6.390625 42.859375 10.171875 \r\nQ 46.921875 13.96875 46.921875 20.515625 \r\nQ 46.921875 27.09375 42.890625 30.859375 \r\nQ 38.875 34.625 31.78125 34.625 \r\nz\r\nM 21.921875 38.8125 \r\nQ 15.578125 40.375 12.03125 44.71875 \r\nQ 8.5 49.078125 8.5 55.328125 \r\nQ 8.5 64.0625 14.71875 69.140625 \r\nQ 20.953125 74.21875 31.78125 74.21875 \r\nQ 42.671875 74.21875 48.875 69.140625 \r\nQ 55.078125 64.0625 55.078125 55.328125 \r\nQ 55.078125 49.078125 51.53125 44.71875 \r\nQ 48 40.375 41.703125 38.8125 \r\nQ 48.828125 37.15625 52.796875 32.3125 \r\nQ 56.78125 27.484375 56.78125 20.515625 \r\nQ 56.78125 9.90625 50.3125 4.234375 \r\nQ 43.84375 -1.421875 31.78125 -1.421875 \r\nQ 19.734375 -1.421875 13.25 4.234375 \r\nQ 6.78125 9.90625 6.78125 20.515625 \r\nQ 6.78125 27.484375 10.78125 32.3125 \r\nQ 14.796875 37.15625 21.921875 38.8125 \r\nz\r\nM 18.3125 54.390625 \r\nQ 18.3125 48.734375 21.84375 45.5625 \r\nQ 25.390625 42.390625 31.78125 42.390625 \r\nQ 38.140625 42.390625 41.71875 45.5625 \r\nQ 45.3125 48.734375 45.3125 54.390625 \r\nQ 45.3125 60.0625 41.71875 63.234375 \r\nQ 38.140625 66.40625 31.78125 66.40625 \r\nQ 25.390625 66.40625 21.84375 63.234375 \r\nQ 18.3125 60.0625 18.3125 54.390625 \r\nz\r\n\" id=\"DejaVuSans-56\"/>\r\n      </defs>\r\n      <g transform=\"translate(164.327231 239.238437)scale(0.1 -0.1)\">\r\n       <use xlink:href=\"#DejaVuSans-56\"/>\r\n       <use x=\"63.623047\" xlink:href=\"#DejaVuSans-48\"/>\r\n       <use x=\"127.246094\" xlink:href=\"#DejaVuSans-48\"/>\r\n      </g>\r\n     </g>\r\n    </g>\r\n    <g id=\"xtick_5\">\r\n     <g id=\"line2d_5\">\r\n      <g>\r\n       <use style=\"stroke:#000000;stroke-width:0.8;\" x=\"213.017429\" xlink:href=\"#m8da7407c98\" y=\"224.64\"/>\r\n      </g>\r\n     </g>\r\n     <g id=\"text_5\">\r\n      <!-- 1000 -->\r\n      <defs>\r\n       <path d=\"M 12.40625 8.296875 \r\nL 28.515625 8.296875 \r\nL 28.515625 63.921875 \r\nL 10.984375 60.40625 \r\nL 10.984375 69.390625 \r\nL 28.421875 72.90625 \r\nL 38.28125 72.90625 \r\nL 38.28125 8.296875 \r\nL 54.390625 8.296875 \r\nL 54.390625 0 \r\nL 12.40625 0 \r\nz\r\n\" id=\"DejaVuSans-49\"/>\r\n      </defs>\r\n      <g transform=\"translate(200.292429 239.238437)scale(0.1 -0.1)\">\r\n       <use xlink:href=\"#DejaVuSans-49\"/>\r\n       <use x=\"63.623047\" xlink:href=\"#DejaVuSans-48\"/>\r\n       <use x=\"127.246094\" xlink:href=\"#DejaVuSans-48\"/>\r\n       <use x=\"190.869141\" xlink:href=\"#DejaVuSans-48\"/>\r\n      </g>\r\n     </g>\r\n    </g>\r\n    <g id=\"xtick_6\">\r\n     <g id=\"line2d_6\">\r\n      <g>\r\n       <use style=\"stroke:#000000;stroke-width:0.8;\" x=\"252.163878\" xlink:href=\"#m8da7407c98\" y=\"224.64\"/>\r\n      </g>\r\n     </g>\r\n     <g id=\"text_6\">\r\n      <!-- 1200 -->\r\n      <g transform=\"translate(239.438878 239.238437)scale(0.1 -0.1)\">\r\n       <use xlink:href=\"#DejaVuSans-49\"/>\r\n       <use x=\"63.623047\" xlink:href=\"#DejaVuSans-50\"/>\r\n       <use x=\"127.246094\" xlink:href=\"#DejaVuSans-48\"/>\r\n       <use x=\"190.869141\" xlink:href=\"#DejaVuSans-48\"/>\r\n      </g>\r\n     </g>\r\n    </g>\r\n    <g id=\"xtick_7\">\r\n     <g id=\"line2d_7\">\r\n      <g>\r\n       <use style=\"stroke:#000000;stroke-width:0.8;\" x=\"291.310326\" xlink:href=\"#m8da7407c98\" y=\"224.64\"/>\r\n      </g>\r\n     </g>\r\n     <g id=\"text_7\">\r\n      <!-- 1400 -->\r\n      <g transform=\"translate(278.585326 239.238437)scale(0.1 -0.1)\">\r\n       <use xlink:href=\"#DejaVuSans-49\"/>\r\n       <use x=\"63.623047\" xlink:href=\"#DejaVuSans-52\"/>\r\n       <use x=\"127.246094\" xlink:href=\"#DejaVuSans-48\"/>\r\n       <use x=\"190.869141\" xlink:href=\"#DejaVuSans-48\"/>\r\n      </g>\r\n     </g>\r\n    </g>\r\n    <g id=\"xtick_8\">\r\n     <g id=\"line2d_8\">\r\n      <g>\r\n       <use style=\"stroke:#000000;stroke-width:0.8;\" x=\"330.456774\" xlink:href=\"#m8da7407c98\" y=\"224.64\"/>\r\n      </g>\r\n     </g>\r\n     <g id=\"text_8\">\r\n      <!-- 1600 -->\r\n      <g transform=\"translate(317.731774 239.238437)scale(0.1 -0.1)\">\r\n       <use xlink:href=\"#DejaVuSans-49\"/>\r\n       <use x=\"63.623047\" xlink:href=\"#DejaVuSans-54\"/>\r\n       <use x=\"127.246094\" xlink:href=\"#DejaVuSans-48\"/>\r\n       <use x=\"190.869141\" xlink:href=\"#DejaVuSans-48\"/>\r\n      </g>\r\n     </g>\r\n    </g>\r\n   </g>\r\n   <g id=\"matplotlib.axis_2\">\r\n    <g id=\"ytick_1\">\r\n     <g id=\"line2d_9\">\r\n      <defs>\r\n       <path d=\"M 0 0 \r\nL -3.5 0 \r\n\" id=\"m443a65abef\" style=\"stroke:#000000;stroke-width:0.8;\"/>\r\n      </defs>\r\n      <g>\r\n       <use style=\"stroke:#000000;stroke-width:0.8;\" x=\"26.925\" xlink:href=\"#m443a65abef\" y=\"224.64\"/>\r\n      </g>\r\n     </g>\r\n     <g id=\"text_9\">\r\n      <!-- 0 -->\r\n      <g transform=\"translate(13.5625 228.439219)scale(0.1 -0.1)\">\r\n       <use xlink:href=\"#DejaVuSans-48\"/>\r\n      </g>\r\n     </g>\r\n    </g>\r\n    <g id=\"ytick_2\">\r\n     <g id=\"line2d_10\">\r\n      <g>\r\n       <use style=\"stroke:#000000;stroke-width:0.8;\" x=\"26.925\" xlink:href=\"#m443a65abef\" y=\"183.222857\"/>\r\n      </g>\r\n     </g>\r\n     <g id=\"text_10\">\r\n      <!-- 2 -->\r\n      <g transform=\"translate(13.5625 187.022076)scale(0.1 -0.1)\">\r\n       <use xlink:href=\"#DejaVuSans-50\"/>\r\n      </g>\r\n     </g>\r\n    </g>\r\n    <g id=\"ytick_3\">\r\n     <g id=\"line2d_11\">\r\n      <g>\r\n       <use style=\"stroke:#000000;stroke-width:0.8;\" x=\"26.925\" xlink:href=\"#m443a65abef\" y=\"141.805714\"/>\r\n      </g>\r\n     </g>\r\n     <g id=\"text_11\">\r\n      <!-- 4 -->\r\n      <g transform=\"translate(13.5625 145.604933)scale(0.1 -0.1)\">\r\n       <use xlink:href=\"#DejaVuSans-52\"/>\r\n      </g>\r\n     </g>\r\n    </g>\r\n    <g id=\"ytick_4\">\r\n     <g id=\"line2d_12\">\r\n      <g>\r\n       <use style=\"stroke:#000000;stroke-width:0.8;\" x=\"26.925\" xlink:href=\"#m443a65abef\" y=\"100.388571\"/>\r\n      </g>\r\n     </g>\r\n     <g id=\"text_12\">\r\n      <!-- 6 -->\r\n      <g transform=\"translate(13.5625 104.18779)scale(0.1 -0.1)\">\r\n       <use xlink:href=\"#DejaVuSans-54\"/>\r\n      </g>\r\n     </g>\r\n    </g>\r\n    <g id=\"ytick_5\">\r\n     <g id=\"line2d_13\">\r\n      <g>\r\n       <use style=\"stroke:#000000;stroke-width:0.8;\" x=\"26.925\" xlink:href=\"#m443a65abef\" y=\"58.971429\"/>\r\n      </g>\r\n     </g>\r\n     <g id=\"text_13\">\r\n      <!-- 8 -->\r\n      <g transform=\"translate(13.5625 62.770647)scale(0.1 -0.1)\">\r\n       <use xlink:href=\"#DejaVuSans-56\"/>\r\n      </g>\r\n     </g>\r\n    </g>\r\n    <g id=\"ytick_6\">\r\n     <g id=\"line2d_14\">\r\n      <g>\r\n       <use style=\"stroke:#000000;stroke-width:0.8;\" x=\"26.925\" xlink:href=\"#m443a65abef\" y=\"17.554286\"/>\r\n      </g>\r\n     </g>\r\n     <g id=\"text_14\">\r\n      <!-- 10 -->\r\n      <g transform=\"translate(7.2 21.353504)scale(0.1 -0.1)\">\r\n       <use xlink:href=\"#DejaVuSans-49\"/>\r\n       <use x=\"63.623047\" xlink:href=\"#DejaVuSans-48\"/>\r\n      </g>\r\n     </g>\r\n    </g>\r\n   </g>\r\n   <g id=\"patch_53\">\r\n    <path d=\"M 26.925 224.64 \r\nL 26.925 7.2 \r\n\" style=\"fill:none;stroke:#000000;stroke-linecap:square;stroke-linejoin:miter;stroke-width:0.8;\"/>\r\n   </g>\r\n   <g id=\"patch_54\">\r\n    <path d=\"M 361.725 224.64 \r\nL 361.725 7.2 \r\n\" style=\"fill:none;stroke:#000000;stroke-linecap:square;stroke-linejoin:miter;stroke-width:0.8;\"/>\r\n   </g>\r\n   <g id=\"patch_55\">\r\n    <path d=\"M 26.925 224.64 \r\nL 361.725 224.64 \r\n\" style=\"fill:none;stroke:#000000;stroke-linecap:square;stroke-linejoin:miter;stroke-width:0.8;\"/>\r\n   </g>\r\n   <g id=\"patch_56\">\r\n    <path d=\"M 26.925 7.2 \r\nL 361.725 7.2 \r\n\" style=\"fill:none;stroke:#000000;stroke-linecap:square;stroke-linejoin:miter;stroke-width:0.8;\"/>\r\n   </g>\r\n  </g>\r\n </g>\r\n <defs>\r\n  <clipPath id=\"pa45007b93b\">\r\n   <rect height=\"217.44\" width=\"334.8\" x=\"26.925\" y=\"7.2\"/>\r\n  </clipPath>\r\n </defs>\r\n</svg>\r\n",
      "image/png": "[encoded data removed]"
     },
     "metadata": {
      "needs_background": "light"
     }
    }
   ],
   "source": [
    "# --------------------------------------------------------------\n",
    "# Load data file to train model\n",
    "# --------------------------------------------------------------\n",
    "\n",
    "import pandas as pd\n",
    "import numpy as np\n",
    "import matplotlib.pyplot as plt\n",
    "import array as arr\n",
    "\n",
    "data = pd.read_csv(\"export_dataframe_84CVs_SKILL_HF_V2.csv\", encoding=\"latin1\")\n",
    "data = data.fillna(method=\"ffill\")\n",
    "\n",
    "# Nº de palavras\n",
    "words = set(list(data['Word'].values))\n",
    "words.add('PADword')\n",
    "print(\"Número de palavras: {}\".format(len(words)))\n",
    "\n",
    "# Nº de tags\n",
    "tags = list(set(data[\"Tag\"].values))\n",
    "n_tags = len(tags)\n",
    "print(\"Número de tags: {}\".format(len(tags)))\n",
    "\n",
    "class SentenceGetter(object):\n",
    "    \n",
    "    def __init__(self, data):\n",
    "        self.n_sent = 1\n",
    "        self.data = data\n",
    "        self.empty = False\n",
    "        agg_func = lambda s: [(w, t) for w, t in zip(s[\"Word\"].values.tolist(),s[\"Tag\"].values.tolist())]\n",
    "        self.grouped = self.data.groupby(\"Sentence #\").apply(agg_func)\n",
    "        self.sentences = [s for s in self.grouped]\n",
    "    \n",
    "    def get_next(self):\n",
    "        try:\n",
    "            s = self.grouped[\"Sentence: {}\".format(self.n_sent)]\n",
    "            self.n_sent += 1\n",
    "            return s\n",
    "        except:\n",
    "            return None\n",
    "\n",
    "getter = SentenceGetter(data)\n",
    "sent = getter.get_next()\n",
    "\n",
    "# Nº de inputs\n",
    "sentences = getter.sentences\n",
    "print(\"Número de inputs: {}\".format(len(sentences)))\n",
    "\n",
    "# Maior numero de palavras num input\n",
    "largest_sen = max(len(sen) for sen in sentences)\n",
    "print('O maior input tem {} palavras'.format(largest_sen))\n",
    "\n",
    "# Distribuição da quantidade da palavras por input\n",
    "%matplotlib inline\n",
    "plt.hist([len(sen) for sen in sentences], bins= 50)\n",
    "plt.show()\n",
    "\n",
    "# Atribuição de um valor numérico a cada uma das palavras do vocabulário existente (Inputs e Tags)\n",
    "words2index = {w:i for i,w in enumerate(words)}\n",
    "tags2index = {t:i for i,t in enumerate(tags)}"
   ]
  },
  {
   "cell_type": "code",
   "execution_count": 33,
   "metadata": {},
   "outputs": [
    {
     "output_type": "stream",
     "name": "stdout",
     "text": "84\n84\n82\n82\n2\n2\n"
    }
   ],
   "source": [
    "# -------------------------------------------------------------------------------------------------------------------------------------------------\n",
    "# Split dos inputs por palavra. Consoante o tamanho máximo dos inputs é acrescentada a palavra PADword para todos os inputs terem a mesma dimensão.\n",
    "# Variável new_X fica com as entradas separadas por palavra e já com padding\n",
    "# -------------------------------------------------------------------------------------------------------------------------------------------------\n",
    "\n",
    "largest_word = max(len(word) for word in words2index)\n",
    "max_len = largest_sen\n",
    "X = [[w[0]for w in s] for s in sentences]\n",
    "new_X = []\n",
    "for seq in X:\n",
    "    new_seq = []\n",
    "    for i in range(max_len):\n",
    "        try:\n",
    "            new_seq.append(seq[i])\n",
    "        except:\n",
    "            new_seq.append(\"PADword\")\n",
    "    new_X.append(new_seq)\n",
    "\n",
    "# Outputs passam para valores numéricos\n",
    "from keras.preprocessing.sequence import pad_sequences\n",
    "y = [[tags2index[w[1]] for w in s] for s in sentences]\n",
    "y = pad_sequences(maxlen=max_len, sequences=y, padding=\"post\", value=tags2index[\"O\"])\n",
    "\n",
    "# Separação de 2 inputs para testar o modelo depois de treinado\n",
    "aux = len(new_X) - 2\n",
    "\n",
    "X_tr, X_te = new_X[:aux], new_X[aux:]\n",
    "y_tr, y_te = y[:aux], y[aux:]\n",
    "\n",
    "print(len(new_X))\n",
    "print(len(y))\n",
    "print(len(X_tr))\n",
    "print(len(y_tr))\n",
    "print(len(X_te))\n",
    "print(len(y_te))"
   ]
  },
  {
   "cell_type": "code",
   "execution_count": 34,
   "metadata": {},
   "outputs": [
    {
     "output_type": "stream",
     "name": "stdout",
     "text": "INFO:tensorflow:Saver not created because there are no variables in the graph to restore\nINFO:tensorflow:Saver not created because there are no variables in the graph to restore\n"
    }
   ],
   "source": [
    "# ------------------------------------------------------------------------------\n",
    "# Definição do modelo. Para ver o modelo descomentar linha com #model.summary()\n",
    "# ------------------------------------------------------------------------------\n",
    "\n",
    "batch_size = 2\n",
    "import tensorflow as tf\n",
    "import tensorflow_hub as hub\n",
    "from keras import backend as K\n",
    "sess = tf.Session()\n",
    "K.set_session(sess)\n",
    "\n",
    "elmo_model = hub.Module(\"https://tfhub.dev/google/elmo/3\", trainable=True)\n",
    "sess.run(tf.global_variables_initializer())\n",
    "sess.run(tf.tables_initializer())\n",
    "\n",
    "def ElmoEmbedding(x):\n",
    "    return elmo_model(inputs={\n",
    "                            \"tokens\": tf.squeeze(tf.cast(x, tf.string)),\n",
    "                            \"sequence_len\": tf.constant(batch_size*[max_len])\n",
    "                      },\n",
    "                      signature=\"tokens\",\n",
    "                      as_dict=True)[\"elmo\"]\n",
    "\n",
    "from keras.models import Model, Input\n",
    "from keras.layers.merge import add\n",
    "from keras.layers import LSTM, Embedding, Dense, TimeDistributed, Dropout, Bidirectional, Lambda\n",
    "\n",
    "# Modelo\n",
    "input_text = Input(shape=(max_len,), dtype=tf.string)\n",
    "embedding = Lambda(ElmoEmbedding, output_shape=(max_len, 1024))(input_text)\n",
    "x = Bidirectional(LSTM(units=512, return_sequences=True, recurrent_dropout=0.2, dropout=0.2))(embedding)\n",
    "x_rnn = Bidirectional(LSTM(units=512, return_sequences=True, recurrent_dropout=0.2, dropout=0.2))(x)\n",
    "x = add([x, x_rnn])  # residual connection to the first biLSTM\n",
    "out = TimeDistributed(Dense(n_tags, activation=\"softmax\"))(x)\n",
    "\n",
    "model = Model(input_text, out)\n",
    "model.compile(optimizer=\"adam\", loss=\"sparse_categorical_crossentropy\", metrics=[\"accuracy\"])\n",
    "#model.summary()"
   ]
  },
  {
   "cell_type": "code",
   "execution_count": 35,
   "metadata": {},
   "outputs": [
    {
     "output_type": "stream",
     "name": "stdout",
     "text": "82\n82\n64\n64\n18\n18\n"
    }
   ],
   "source": [
    "# -------------------------------------------------------------------------------\n",
    "# Separação do conjunto de treino em dados de treino e dados de validação\n",
    "# Separação dos inputs em conjunto de treino (80%) e conjunto de validação (20%)\n",
    "# -------------------------------------------------------------------------------\n",
    "\n",
    "val_per = 0.2\n",
    "\n",
    "x = int((1-val_per) * len(X_tr))\n",
    "\n",
    "if (x % 2) != 0: x -= 1\n",
    "\n",
    "X_tr2, X_val2 = X_tr[:x], X_tr[x:]\n",
    "y_tr2, y_val2 = y_tr[:x], y_tr[x:]\n",
    "y_tr2 = y_tr2.reshape(y_tr2.shape[0], y_tr2.shape[1], 1)\n",
    "y_val2 = y_val2.reshape(y_val2.shape[0], y_val2.shape[1], 1)\n",
    "\n",
    "print(len(X_tr))\n",
    "print(len(y_tr))\n",
    "\n",
    "print(len(X_tr2))\n",
    "print(len(y_tr2))\n",
    "print(len(X_val2))\n",
    "print(len(y_val2))"
   ]
  },
  {
   "cell_type": "code",
   "execution_count": 36,
   "metadata": {},
   "outputs": [
    {
     "output_type": "stream",
     "name": "stdout",
     "text": "Train on 64 samples, validate on 18 samples\nEpoch 1/2\n64/64 [==============================] - 437s 7s/step - loss: 0.1280 - accuracy: 0.9607 - val_loss: 0.0242 - val_accuracy: 0.9951\nEpoch 2/2\n64/64 [==============================] - 433s 7s/step - loss: 0.0359 - accuracy: 0.9924 - val_loss: 0.0196 - val_accuracy: 0.9961\n"
    }
   ],
   "source": [
    "# -----------------\n",
    "# Treinar o modelo\n",
    "# -----------------\n",
    "\n",
    "history = model.fit(np.array(X_tr2), y_tr2, validation_data=(np.array(X_val2), y_val2), batch_size=batch_size, epochs=2, verbose=1)"
   ]
  },
  {
   "cell_type": "code",
   "execution_count": 37,
   "metadata": {
    "tags": [
     "outputPrepend"
    ]
   },
   "outputs": [
    {
     "output_type": "stream",
     "name": "stdout",
     "text": "     O         O\nEuropeu                                                                    O         O\nComum                                                                      O         O\nde                                                                         O         O\nReferência                                                                 O         O\npara                                                                       O         O\nas                                                                         O         O\nLínguas                                                                    O         O\nUnião                                                                      O         O\nEuropeia                                                                   O         O\n2002-2013                                                                  O         O\nhttp                                                                       O         O\n//europass                                                                 O         O\ncedefop                                                                    O         O\neuropa                                                                     O         O\neu                                                                         O         O\nPágina                                                                     O         O\n1                                                                          O         O\n2                                                                          O         O\nCurriculum                                                                 O         O\nVitae                                                                      O         O\nCompetências                                                               O         O\nde                                                                         O         O\ncomunicação                                                                O         O\nCompetências                                                               O         O\nde                                                                         O         O\norganização                                                                O         O\nCompetências                                                               O         O\ntécnicas                                                                   O         O\nCompetências                                                               O         O\ninformáticas                                                               O         O\nAndré                                                                      O         O\nFilipe                                                                     O         O\nBicho                                                                      O         O\nJorge                                                                      O         O\nGrande                                                                     O         O\nespírito                                                                   O         O\nde                                                                         O         O\nequipa                                                                     O         O\nresponsabilidade                                                           O         O\ne                                                                          O         O\ncapacidade                                                                 O         O\nde                                                                         O         O\nmotivação                                                                  O         O\nMembro                                                                     O         O\nda                                                                         O         O\nAssociação                                                                 O         O\nJuvenil                                                                    O         O\n3                                                                          O         O\npontos                                                                     O         O\nArte                                                                       O         O\nAmbiente                                                                   O         O\ne                                                                          O         O\nCultura                                                                    O         O\nCapacidade                                                                 O         O\nde                                                                         O         O\nliderança                                                                  O         O\ne                                                                          O         O\norganização                                                                O         O\nadquirida                                                                  O         O\npela                                                                       O         O\nexperiência                                                                O         O\nprofissional                                                               O         O\ntanto                                                                      O         O\nem                                                                         O         O\nequipa                                                                     O         O\ncomo                                                                       O         O\nsozinho                                                                    O         O\nTarefas                                                                    O         O\nde                                                                         O         O\nresponsabilidade                                                           O         O\ne                                                                          O         O\nliderança                                                                  O         O\nde                                                                         O         O\neventos                                                                    O         O\nVárias                                                                     O         O\ncompetências                                                               O         O\nna                                                                         O         O\nárea                                                                       O         O\nde                                                                         O         O\nmecânica                                                                   O         O\ne                                                                          O         O\ninformática                                                                O         O\nConhecimentos                                                              O         O\nna                                                                         O         O\nóptica                                                                     O         O\ndo                                                                         O         O\nutilizador                                                                 O         O\nde                                                                         O         O\nsoftware                                                                   O         O\nOffice                                                                     O         S-SKILL\nWord                                                                       O         S-SKILL\nExcel                                                                      O         S-SKILL\ne                                                                          O         O\nPower                                                                      O         B-SKILL\nPoint                                                                      O         E-SKILL\nConhecimentos                                                              O         O\nbásicos                                                                    O         O\nna                                                                         O         O\nóptica                                                                     O         O\ndo                                                                         O         O\nutilizador                                                                 O         O\nde                                                                         O         O\nprograma                                                                   O         O\nde                                                                         O         O\ntratamento                                                                 O         O\nde                                                                         O         O\nimagem                                                                     O         O\nCapture                                                                    O         B-SKILL\none                                                                        O         I-SKILL\npro                                                                        O         E-SKILL\nPhotoshop                                                                  O         S-SKILL\nlightroom                                                                  O         S-SKILL\nOutras                                                                     O         O\ncompetências                                                               O         O\nCarta                                                                      O         O\nde                                                                         O         O\nCondução                                                                   O         O\nPraticante                                                                 O         O\nde                                                                         O         O\nBTT                                                                        O         O\nbicicleta                                                                  O         O\ntodo                                                                       O         O\no                                                                          O         O\nterreno                                                                    O         O\ne                                                                          O         O\nTodo                                                                       O         O\no                                                                          O         O\nTerreno                                                                    O         O\npertencendo                                                                O         O\na                                                                          O         O\nvários                                                                     O         O\ngrupos                                                                     O         O\nque                                                                        O         O\norganizam                                                                  O         O\nactividades                                                                O         O\nde                                                                         O         O\nlazer                                                                      O         O\nforum                                                                      O         O\nlandmania                                                                  O         O\ne                                                                          O         O\naventura                                                                   O         O\nsobre                                                                      O         O\nrodas                                                                      O         O\nConhecimentos                                                              O         O\nde                                                                         O         O\nFotografia                                                                 O         O\ntanto                                                                      O         O\nno                                                                         O         O\nmanuseamento                                                               O         O\nde                                                                         O         O\nmaquinas                                                                   O         O\nreflex                                                                     O         O\ncomo                                                                       O         O\nno                                                                         O         O\ntratamento                                                                 O         O\nde                                                                         O         O\nimagem                                                                     O         O\nB                                                                          O         O\nINFORMAÇÃO                                                                 O         O\nADICIONAL                                                                  O         O\nDisponibilidade                                                            O         O\npara                                                                       O         O\nviajar                                                                     O         O\nÁrea                                                                       O         O\nde                                                                         O         O\ninteresse                                                                  O         O\npessoal                                                                    O         O\nMusica                                                                     O         O\nleitura                                                                    O         O\ncinema                                                                     O         O\nfotografia                                                                 O         O\nmecânica                                                                   O         O\ninformática                                                                O         O\ndesporto                                                                   O         O\nautomobilístico                                                            O         O\nturismo                                                                    O         O\ne                                                                          O         O\nnovas                                                                      O         O\ntecnologias                                                                O         O\nInscrito                                                                   O         O\nno                                                                         O         O\nInstituto                                                                  O         O\ndo                                                                         O         O\nEmprego                                                                    O         O\ne                                                                          O         O\nFormação                                                                   O         O\nProfissional                                                               O         O\ndesde                                                                      O         O\nNovembro                                                                   O         O\nestando                                                                    O         O\ndisponível                                                                 O         O\npara                                                                       O         O\nEstágios                                                                   O         O\nProfissionais                                                              O         O\npelo                                                                       O         O\nIEFP                                                                       O         O\ne                                                                          O         O\npodendo                                                                    O         O\nser                                                                        O         O\ncontratado                                                                 O         O\nao                                                                         O         O\nabrigo                                                                     O         O\ndo                                                                         O         O\nprograma                                                                   O         O\nEstímulo                                                                   O         O\n2012/2013                                                                  O         O\npor                                                                        O         O\nestar                                                                      O         O\ninscrito                                                                   O         O\nno                                                                         O         O\ncentro                                                                     O         O\nhá                                                                         O         O\nseis                                                                       O         O\n6                                                                          O         O\nou                                                                         O         O\nmais                                                                       O         O\nmeses                                                                      O         O\nUnião                                                                      O         O\nEuropeia                                                                   O         O\n2002-2013                                                                  O         O\nhttp                                                                       O         O\n//europass                                                                 O         O\ncedefop                                                                    O         O\neuropa                                                                     O         O\neu                                                                         O         O\nPágina                                                                     O         O\n2                                                                          O         O\n2                                                                          O         O\n.                                                                          O         O\n"
    }
   ],
   "source": [
    "# --------------------------------------------------------------------------\n",
    "# Previsão com dados de teste, obtenção da precisão e dos resultados finais\n",
    "# --------------------------------------------------------------------------\n",
    "\n",
    "from seqeval.metrics import precision_score, recall_score, f1_score, classification_report\n",
    "test_pred = model.predict(np.array(X_te), batch_size=batch_size, verbose=1)\n",
    "\n",
    "idx2tag = {i: w for w, i in tags2index.items()}\n",
    "\n",
    "def pred2label(pred):\n",
    "    out = []\n",
    "    for pred_i in pred:\n",
    "        out_i = []\n",
    "        for p in pred_i:\n",
    "            p_i = np.argmax(p)\n",
    "            out_i.append(idx2tag[p_i].replace(\"PADword\", \"O\"))\n",
    "        out.append(out_i)\n",
    "    return out\n",
    "\n",
    "def test2label(pred):\n",
    "    out = []\n",
    "    for pred_i in pred:\n",
    "        out_i = []\n",
    "        for p in pred_i:\n",
    "            out_i.append(idx2tag[p].replace(\"PADword\", \"O\"))\n",
    "        out.append(out_i)\n",
    "    return out\n",
    "    \n",
    "pred_labels = pred2label(test_pred)\n",
    "test_labels = test2label(y_te)\n",
    "\n",
    "# Precisão\n",
    "print(\"F1-score: {:.1%}\".format(f1_score(test_labels, pred_labels)))\n",
    "print(\"\\n\")\n",
    "print(classification_report(test_labels, pred_labels))\n",
    "\n",
    "# Resultados\n",
    "file1 = open(\"myfiletest.txt\",\"a\")#append mode\n",
    "largest_word = largest_word + 1\n",
    "print(\"Palavra\" + \" \"*(largest_word-7) + \"Prev - Real\")\n",
    "print(\"=\"*(largest_word+14))\n",
    "file1.write(\"F1-score: {:.1%}\".format(f1_score(test_labels, pred_labels)) + \"\\n\")\n",
    "file1.write(classification_report(test_labels, pred_labels) + \"\\n\")\n",
    "file1.write(\"Palavra\" + \" \"*(largest_word-7) + \"Prev ---- Real\" + \"\\n\")\n",
    "file1.write(\"=\"*(largest_word+14) + \"\\n\")\n",
    "space = \" \"\n",
    "i=0\n",
    "for pred in pred_labels:\n",
    "    j=0\n",
    "    for pred2 in pred:\n",
    "        if X_te[i][j] == \"PADword\": \n",
    "            break\n",
    "        print(X_te[i][j] + \" \"*(largest_word-len(X_te[i][j])) + pred2 + \" \"*(10-len(pred2)) + test_labels[i][j])\n",
    "        file1.write(X_te[i][j] + \" \"*(largest_word-len(X_te[i][j])) + pred2 + \" \"*(10-len(pred2)) + test_labels[i][j] + \"\\n\")\n",
    "        j=j+1\n",
    "    i=i+1\n",
    "file1.close()"
   ]
  },
  {
   "cell_type": "code",
   "execution_count": 38,
   "metadata": {},
   "outputs": [],
   "source": [
    "# -------------------------------\n",
    "# Gravar o modelo em formato .pb\n",
    "# -------------------------------\n",
    "\n",
    "#export_path = 'so-test/'\n",
    "\n",
    "#with tf.keras.backend.get_session() as sess:\n",
    "#    tf.saved_model.simple_save(sess, export_path, inputs={'input_image': model.input}, outputs={t.name: t for t in model.outputs})"
   ]
  },
  {
   "cell_type": "code",
   "execution_count": null,
   "metadata": {},
   "outputs": [],
   "source": []
  }
 ],
 "metadata": {
  "kernelspec": {
   "display_name": "Python 3.6.10 64-bit ('tf1': conda)",
   "language": "python",
   "name": "python361064bittf1conda33c2707733884c798131f55609cd2a9a"
  },
  "language_info": {
   "codemirror_mode": {
    "name": "ipython",
    "version": 3
   },
   "file_extension": ".py",
   "mimetype": "text/x-python",
   "name": "python",
   "nbconvert_exporter": "python",
   "pygments_lexer": "ipython3",
   "version": "3.6.10-final"
  }
 },
 "nbformat": 4,
 "nbformat_minor": 2
}